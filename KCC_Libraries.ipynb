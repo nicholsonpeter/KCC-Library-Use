{
 "cells": [
  {
   "cell_type": "markdown",
   "metadata": {},
   "source": [
    "Importing tools"
   ]
  },
  {
   "cell_type": "code",
   "execution_count": null,
   "metadata": {},
   "outputs": [],
   "source": [
    "import pandas as pd\n",
    "import numpy as np\n",
    "import matplotlib.pyplot as plt\n",
    "%matplotlib inline\n",
    "import matplotlib.patches as mpatches\n",
    "from matplotlib.pyplot import figure"
   ]
  },
  {
   "cell_type": "markdown",
   "metadata": {},
   "source": [
    "Reading in the dataset"
   ]
  },
  {
   "cell_type": "code",
   "execution_count": null,
   "metadata": {},
   "outputs": [],
   "source": [
    "data = pd.read_csv('data\\KCC_Libraries.csv')"
   ]
  },
  {
   "cell_type": "markdown",
   "metadata": {},
   "source": [
    "Taking a quick look at the dataset"
   ]
  },
  {
   "cell_type": "code",
   "execution_count": null,
   "metadata": {},
   "outputs": [],
   "source": [
    "data.head(5)"
   ]
  },
  {
   "cell_type": "code",
   "execution_count": null,
   "metadata": {},
   "outputs": [],
   "source": [
    "data.groupby(['district']).sum().sort_values('items_in_stock', ascending=False)\n"
   ]
  },
  {
   "cell_type": "markdown",
   "metadata": {},
   "source": [
    "Is the biggest library also the busiest?"
   ]
  },
  {
   "cell_type": "code",
   "execution_count": null,
   "metadata": {},
   "outputs": [],
   "source": [
    "big_libraries = data.sort_values('total_borrowers', ascending=False)[['location','total_borrowers','number_of_visits']].head(20)\n",
    "big_libraries"
   ]
  },
  {
   "cell_type": "code",
   "execution_count": 256,
   "metadata": {},
   "outputs": [
    {
     "data": {
      "image/png": "[encoded data removed]",
      "text/plain": [
       "<Figure size 432x288 with 1 Axes>"
      ]
     },
     "metadata": {
      "needs_background": "light"
     },
     "output_type": "display_data"
    }
   ],
   "source": [
    "plt.figure(dpi=100)\n",
    "plt.barh(big_libraries['location'], big_libraries['number_of_visits'], color='#F4B860', label='Total Visits')\n",
    "plt.barh(big_libraries['location'], big_libraries['total_borrowers'], color='#C83E4D', label='Total Members')\n",
    "plt.gca().spines['top'].set_visible(False)\n",
    "plt.gca().spines['right'].set_visible(False)\n",
    "plt.legend()\n",
    "plt.ylabel('Location')\n",
    "plt.suptitle('Is the library with the biggest membership the busiest?')\n",
    "plt.figtext(0.9, -0.05, 'Data Source: https://www.kent.gov.uk/', horizontalalignment='right', fontsize=6) \n",
    "plt.savefig('Biggest_Busiest.jpg')\n",
    "plt.show()"
   ]
  },
  {
   "cell_type": "code",
   "execution_count": null,
   "metadata": {},
   "outputs": [],
   "source": [
    "data.sort_values('computer_hours', ascending=False).head(10)[['district', 'location','computer_hours']]"
   ]
  },
  {
   "cell_type": "markdown",
   "metadata": {},
   "source": [
    "Taking a look at the above, we can see that each age group has it's own column whichmight not be needed.  We can unpivot these columns so we have one column holding the age categories, and another column holding the count for each."
   ]
  },
  {
   "cell_type": "code",
   "execution_count": null,
   "metadata": {},
   "outputs": [],
   "source": [
    "data_unpivot = data.melt(\n",
    "    id_vars=[\n",
    "        \"district\",\n",
    "        \"location\",\n",
    "        \"total_borrowers\",\n",
    "        \"number_of_borrowed_items\",\n",
    "        \"computer_hours\",\n",
    "        \"number_of_visits\",\n",
    "        \"items_in_stock\",\n",
    "        \"staffing_costs\",\n",
    "        \"premises_costs\",\n",
    "        \"other_costs\",\n",
    "        \"total_costs\",\n",
    "        \"cost_per_borrow\",\n",
    "        \"number_of_birth_and_death_registrations\",\n",
    "    ],\n",
    "    var_name=\"age\",\n",
    "    value_name=\"number_of_borrowers\",\n",
    ")\n",
    "data_unpivot"
   ]
  },
  {
   "cell_type": "code",
   "execution_count": null,
   "metadata": {},
   "outputs": [],
   "source": [
    "total_items = data.groupby('district').sum().sort_values('items_in_stock', ascending=False).reset_index()[['district','items_in_stock','number_of_visits']]\n",
    "total_items"
   ]
  },
  {
   "cell_type": "code",
   "execution_count": null,
   "metadata": {},
   "outputs": [],
   "source": [
    "plt.figure(dpi=100)\n",
    "plt.barh(total_items.district, total_items.items_in_stock, color='#F4B860', label='Total Library Items')\n",
    "plt.barh(total_items.district, total_items.number_of_visits, color='#C83E4D', label='Total Visits')\n",
    "plt.gca().spines['top'].set_visible(False)\n",
    "plt.gca().spines['right'].set_visible(False)\n",
    "plt.legend()\n",
    "plt.ylabel('Number of Items Available')\n",
    "plt.suptitle('Number of items vs. Number of borrows')\n",
    "plt.title('per District')\n",
    "plt.figtext(0.9, -0.1, 'Data Source: https://www.kent.gov.uk/', horizontalalignment='right', fontsize=6) \n",
    "plt.xticks(rotation = 60)\n",
    "plt.show()"
   ]
  },
  {
   "cell_type": "code",
   "execution_count": null,
   "metadata": {},
   "outputs": [],
   "source": [
    "computers = data.sort_values('computer_hours', ascending=False).head(10)[['location','computer_hours']]\n",
    "computers"
   ]
  },
  {
   "cell_type": "code",
   "execution_count": null,
   "metadata": {},
   "outputs": [],
   "source": [
    "plt.figure(dpi=100)\n",
    "plt.barh(computers['location'], computers['computer_hours'], color='#C83E4D')\n",
    "plt.gca().spines['top'].set_visible(False)\n",
    "plt.gca().spines['right'].set_visible(False)\n",
    "plt.legend()\n",
    "plt.ylabel('Location')\n",
    "plt.xlabel('Total Hours')\n",
    "plt.suptitle('Number Of Computer Hours Logged Per Disctrict')\n",
    "plt.figtext(0.9, -0.05, 'Data Source: https://www.kent.gov.uk/', horizontalalignment='right', fontsize=6) \n",
    "plt.show()"
   ]
  },
  {
   "cell_type": "code",
   "execution_count": null,
   "metadata": {},
   "outputs": [],
   "source": [
    "ages_by_district = data.groupby('district').sum().reset_index().sort_values('60+', ascending=True)[['district','0-11','12-19','20-59','60+','other','total_borrowers']]\n",
    "ages_by_district"
   ]
  },
  {
   "cell_type": "code",
   "execution_count": null,
   "metadata": {},
   "outputs": [],
   "source": [
    "plt.figure(dpi=100)\n",
    "plt.barh(ages_by_district['district'], ages_by_district['0-11'], color='#6699CC', label='0-9')\n",
    "plt.barh(ages_by_district['district'], ages_by_district['12-19'], color='#4A5859', label='12-19')\n",
    "plt.barh(ages_by_district['district'], ages_by_district['20-59'], color='#A0EEC0', label='20-59')\n",
    "plt.barh(ages_by_district['district'], ages_by_district['60+'], color='#F4B860', label='60+')\n",
    "plt.barh(ages_by_district['district'], ages_by_district['other'], color='#C83E4D', label='other')\n",
    "plt.gca().spines['top'].set_visible(False)\n",
    "plt.gca().spines['right'].set_visible(False)\n",
    "plt.legend()\n",
    "plt.ylabel('Number Of Borrowers')\n",
    "plt.suptitle('Number Of Borrowers Per District')\n",
    "plt.figtext(0.9, -0.05, 'Data Source: https://www.kent.gov.uk/', horizontalalignment='right', fontsize=6) \n",
    "plt."
   ]
  }
 ],
 "metadata": {
  "interpreter": {
   "hash": "34dfee18d5f4a96df9a8fcc719c91cf50e8ed50de2aa108bf45cd20982063274"
  },
  "kernelspec": {
   "display_name": "Python 3.8.11 64-bit ('base': conda)",
   "name": "python3"
  },
  "language_info": {
   "codemirror_mode": {
    "name": "ipython",
    "version": 3
   },
   "file_extension": ".py",
   "mimetype": "text/x-python",
   "name": "python",
   "nbconvert_exporter": "python",
   "pygments_lexer": "ipython3",
   "version": "3.8.8"
  },
  "orig_nbformat": 4
 },
 "nbformat": 4,
 "nbformat_minor": 2
}
